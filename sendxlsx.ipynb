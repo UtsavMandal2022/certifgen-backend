{
 "cells": [
  {
   "cell_type": "code",
   "execution_count": 1,
   "metadata": {},
   "outputs": [
    {
     "name": "stdout",
     "output_type": "stream",
     "text": [
      "<!DOCTYPE html>\n",
      "<html lang=\"en\">\n",
      "<head>\n",
      "<meta charset=\"utf-8\">\n",
      "<title>Error</title>\n",
      "</head>\n",
      "<body>\n",
      "<pre>TypeError: savelocal is not a function<br> &nbsp; &nbsp;at D:\\tsg web dev\\certif-gen-backend\\server.js:37:9<br> &nbsp; &nbsp;at Layer.handle [as handle_request] (D:\\tsg web dev\\certif-gen-backend\\node_modules\\express\\lib\\router\\layer.js:95:5)<br> &nbsp; &nbsp;at next (D:\\tsg web dev\\certif-gen-backend\\node_modules\\express\\lib\\router\\route.js:144:13)<br> &nbsp; &nbsp;at Route.dispatch (D:\\tsg web dev\\certif-gen-backend\\node_modules\\express\\lib\\router\\route.js:114:3)<br> &nbsp; &nbsp;at Layer.handle [as handle_request] (D:\\tsg web dev\\certif-gen-backend\\node_modules\\express\\lib\\router\\layer.js:95:5)<br> &nbsp; &nbsp;at D:\\tsg web dev\\certif-gen-backend\\node_modules\\express\\lib\\router\\index.js:284:15<br> &nbsp; &nbsp;at Function.process_params (D:\\tsg web dev\\certif-gen-backend\\node_modules\\express\\lib\\router\\index.js:346:12)<br> &nbsp; &nbsp;at next (D:\\tsg web dev\\certif-gen-backend\\node_modules\\express\\lib\\router\\index.js:280:10)<br> &nbsp; &nbsp;at cors (D:\\tsg web dev\\certif-gen-backend\\node_modules\\cors\\lib\\index.js:188:7)<br> &nbsp; &nbsp;at D:\\tsg web dev\\certif-gen-backend\\node_modules\\cors\\lib\\index.js:224:17</pre>\n",
      "</body>\n",
      "</html>\n",
      "\n"
     ]
    }
   ],
   "source": [
    "import requests\n",
    "\n",
    "url = 'http://localhost:5000/upload/'\n",
    "file = {'file':open('./test.xlsx','rb')}\n",
    "r=requests.post(url,files = file)\n",
    "print(r.text)"
   ]
  },
  {
   "cell_type": "code",
   "execution_count": null,
   "metadata": {},
   "outputs": [],
   "source": []
  }
 ],
 "metadata": {
  "kernelspec": {
   "display_name": "Python 3.10.6 64-bit (windows store)",
   "language": "python",
   "name": "python3"
  },
  "language_info": {
   "codemirror_mode": {
    "name": "ipython",
    "version": 3
   },
   "file_extension": ".py",
   "mimetype": "text/x-python",
   "name": "python",
   "nbconvert_exporter": "python",
   "pygments_lexer": "ipython3",
   "version": "3.10.6"
  },
  "orig_nbformat": 4,
  "vscode": {
   "interpreter": {
    "hash": "ba37d69516b96b2df66115ef342e83722e1a1518f5d2e0ee41eb08141fa2fe2a"
   }
  }
 },
 "nbformat": 4,
 "nbformat_minor": 2
}
